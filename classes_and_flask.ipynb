{
 "cells": [
  {
   "cell_type": "markdown",
   "metadata": {},
   "source": [
    "# Классы"
   ]
  },
  {
   "cell_type": "markdown",
   "metadata": {},
   "source": [
    "## Импорты"
   ]
  },
  {
   "cell_type": "code",
   "execution_count": 1,
   "metadata": {},
   "outputs": [],
   "source": [
    "from time import time\n",
    "import pymorphy2\n",
    "morph = pymorphy2.MorphAnalyzer()\n",
    "\n",
    "from flask_sqlalchemy import SQLAlchemy\n",
    "from sqlalchemy import ForeignKey, PrimaryKeyConstraint\n",
    "from sqlalchemy.orm import relationship"
   ]
  },
  {
   "cell_type": "markdown",
   "metadata": {},
   "source": [
    "## База"
   ]
  },
  {
   "cell_type": "markdown",
   "metadata": {},
   "source": [
    "**Объектно-ориентированное программирование** (ООП) - один из ключевых подходов к программированию. В нем программы представляются как набор объектов, каждый из которых - это представитель некоторого более общего типа (класса).\n",
    "\n",
    "Класс описывает свойства (атрибуты) и действия (методы) объекта. Например, у нас есть словарь (не тот, который dict в питоне, а тот, который русско-английский). \n",
    "\n",
    "Какие у него есть свойства?\n",
    "- Исходный язык (например, русский)\n",
    "- Язык перевода (например, английский)\n",
    "- Количество слов\n",
    "- Какая-то метаинформация (стиль, составитель, год создания/последнего изменения)\n",
    "\n",
    "А какие мы хотим уметь выполнять с ним действия?\n",
    "- Получить перевод слова (возможно, в обе стороны)\n",
    "- Добавить слово\n",
    "- Удалить слово (а вдруг понадобиться)\n",
    "- Получить список всех слов (например, чтобы использовать где-то еще)\n",
    "\n",
    "Если говорить про код, то мы хотим, чтобы вот это работало:"
   ]
  },
  {
   "cell_type": "markdown",
   "metadata": {},
   "source": [
    "Свойства (с этого момента - атрибуты):"
   ]
  },
  {
   "cell_type": "markdown",
   "metadata": {},
   "source": [
    "```\n",
    "# Исходный язык\n",
    "my_dict.source_language\n",
    "# Язык перевода\n",
    "my_dict.target_language\n",
    "# Количество слов\n",
    "my_dict.size\n",
    "# Метаинформация\n",
    "my_dict.meta\n",
    "```"
   ]
  },
  {
   "cell_type": "markdown",
   "metadata": {},
   "source": [
    "Действия ( с этого момента - методы):"
   ]
  },
  {
   "cell_type": "markdown",
   "metadata": {},
   "source": [
    "```\n",
    "# Получить перевод слова\n",
    "my_dict.translate(word='')\n",
    "# Добавить слово\n",
    "my_dict.add_word(source='', target='')\n",
    "# Удалить слово \n",
    "my_dict.delete_word(word='')\n",
    "# Получить список всех слов: может быть метод, а может и атрибут. В чем разница?\n",
    "my_dict.get_all_words()\n",
    "my_dict.vocabulary\n",
    "```"
   ]
  },
  {
   "cell_type": "markdown",
   "metadata": {},
   "source": [
    "Как это должно выглядеть снаружи с точки зрения пользователя, мы описали. Теперь давайте посмотрим, как наш словарь будет выглядеть изнутри. Тут есть несколько моментов:\n",
    "- Методы - это функции внутри класса, атрибуты - это переменные внутри класса (но не все)\n",
    "- У каждого класса должен быть метод `__init__`, который отвечает за создание отдельного объекта, относящегося к этому классу (экземпляра класса). Этот метод, кроме всех переменных, которые мы хотим передать для создания, должен первым аргументом иметь `self` (вообще, назвать можно как угодно, но так не принято делать), который отвечает за работу с самим классом изнутри: например, вам надо из функции добавления слова иметь доступ к словарю.\n",
    "- Классы обычно называются с большой буквы, а объекты-представители с маленькой (если вы пользуетесь PyCharm или любой другой штукой с проверкой PEP8, то они любезно вам об этом напомнят).\n",
    "\n",
    "Теперь давайте напишем шаблон нашего словаря:"
   ]
  },
  {
   "cell_type": "code",
   "execution_count": 2,
   "metadata": {},
   "outputs": [],
   "source": [
    "class Dictionary:\n",
    "    \n",
    "    def __init__(self, source=None, target=None, meta=None):\n",
    "        # функция, которая создает наш словарь и прописывает, какие у него есть атрибуты\n",
    "        self.source_language = source\n",
    "        self.target_language = target\n",
    "        self.meta = meta\n",
    "        self.size = 0\n",
    "        self.vocabulary = {}\n",
    "        \n",
    "    def translate(self, word):\n",
    "        # переводим слово\n",
    "        new_word = self.vocabulary.get(word, None)\n",
    "        if new_word is None:\n",
    "            print(f'{word} not in dictionary')\n",
    "        return new_word\n",
    "    \n",
    "    def add_word(self, source, target):\n",
    "        # добавляем слово\n",
    "        if source not in self.vocabulary:\n",
    "            self.vocabulary[source] = target\n",
    "            self.size += 1\n",
    "        else:\n",
    "            print(f'{source} is already added')\n",
    "    \n",
    "    def delete_word(self, word):\n",
    "        # удаляем слово\n",
    "        if word in self.vocabulary:\n",
    "            self.vocabulary.pop(word)\n",
    "            self.size -= 1\n",
    "        else:\n",
    "            print(f'{word} not in dictionary')\n",
    "            \n",
    "    def get_all_words(self):\n",
    "        # получаем все слова из словаря (в данном виде - весь словарь целиком)\n",
    "        return self.vocabulary"
   ]
  },
  {
   "cell_type": "markdown",
   "metadata": {},
   "source": [
    "Обернем ячейки из начала тетрадки в функцию и будем считать, что это способ тестировать наш класс."
   ]
  },
  {
   "cell_type": "code",
   "execution_count": 3,
   "metadata": {},
   "outputs": [],
   "source": [
    "def test(my_dict, src='кошка', tgt='cat'):\n",
    "    print(f'Сам словарь: {my_dict}', end='\\n\\n')\n",
    "    \n",
    "    print('Атрибуты')\n",
    "    print(f'Исходный язык: {my_dict.source_language}')\n",
    "    print(f'Метаинформация: {my_dict.meta}', end='\\n\\n')\n",
    "    \n",
    "    print('Методы')\n",
    "    print(f'Добавить слово')\n",
    "    my_dict.add_word(source=src, target=tgt)\n",
    "    print(f'Все слова в словаре: {my_dict.get_all_words()}')\n",
    "    print(f'Количество слов: {my_dict.size}', end='\\n\\n')\n",
    "    \n",
    "    print(f'Получить перевод слова \"{src}\": \"{my_dict.translate(word=src)}\"', end='\\n\\n')\n",
    "    \n",
    "    print('Удалить слово')\n",
    "    my_dict.delete_word(word=src)\n",
    "    print(f'Все слова в словаре: {my_dict.get_all_words()}')\n",
    "    print(f'Количество слов: {my_dict.size}')"
   ]
  },
  {
   "cell_type": "markdown",
   "metadata": {},
   "source": [
    "Посмотрим, что получится, но сначала создадим сам словарь"
   ]
  },
  {
   "cell_type": "code",
   "execution_count": 4,
   "metadata": {},
   "outputs": [],
   "source": [
    "dct = Dictionary('ru', 'en', {'name': 'my dict'})"
   ]
  },
  {
   "cell_type": "code",
   "execution_count": 5,
   "metadata": {},
   "outputs": [
    {
     "name": "stdout",
     "output_type": "stream",
     "text": [
      "Сам словарь: <__main__.Dictionary object at 0x104d379a0>\n",
      "\n",
      "Атрибуты\n",
      "Исходный язык: ru\n",
      "Метаинформация: {'name': 'my dict'}\n",
      "\n",
      "Методы\n",
      "Добавить слово\n",
      "Все слова в словаре: {'кошка': 'cat'}\n",
      "Количество слов: 1\n",
      "\n",
      "Получить перевод слова \"кошка\": \"cat\"\n",
      "\n",
      "Удалить слово\n",
      "Все слова в словаре: {}\n",
      "Количество слов: 0\n"
     ]
    }
   ],
   "source": [
    "test(dct)"
   ]
  },
  {
   "cell_type": "markdown",
   "metadata": {},
   "source": [
    "Заметим, что вывесети словарь целиком у нас не очень получилось. Это происходит из-за того, что питон не имеет какого-то способа по умолчанию, чтобы показывать пользовательские классы. Но дальше, если успеем, я скажу, как это можно сделать.\n",
    "\n",
    "А теперь давайте еще немного посмотрим теории про классы"
   ]
  },
  {
   "cell_type": "markdown",
   "metadata": {},
   "source": [
    "## Три кита ООП"
   ]
  },
  {
   "cell_type": "markdown",
   "metadata": {},
   "source": [
    "- **Инкапсуляция** - создание разного уровня доступа внутри класса (доступные все атрибуты или скрытые) - это уже следующий уровень\n",
    "- **Наследование** - можем перенимать атрибуты и методы у другого класса (наследовать их)\n",
    "- **Полиморфизм** - можем использовать одинаковый интерфейс у разных объектов (основано на наследовании)"
   ]
  },
  {
   "cell_type": "markdown",
   "metadata": {},
   "source": [
    "### Инкапсуляция"
   ]
  },
  {
   "cell_type": "markdown",
   "metadata": {},
   "source": [
    "Когда мы писали класс словаря, мы подразумевали, что пользователь будет что-то добавлять или удалять с помощью специальных методов. Вот только, пользователям чаще всего не очень интересно, что мы подразумевали. Здесь возникает \"первый кит\" ООП: мы хотим, чтобы снаружи было доступно только то, что изначально было на это рассчитано."
   ]
  },
  {
   "cell_type": "code",
   "execution_count": 6,
   "metadata": {},
   "outputs": [],
   "source": [
    "# вот так\n",
    "dct.add_word('мяч', 'ball')\n",
    "# а не вот так\n",
    "dct.vocabulary['питон'] = 'python'"
   ]
  },
  {
   "cell_type": "code",
   "execution_count": 7,
   "metadata": {},
   "outputs": [
    {
     "data": {
      "text/plain": [
       "{'мяч': 'ball', 'питон': 'python'}"
      ]
     },
     "execution_count": 7,
     "metadata": {},
     "output_type": "execute_result"
    }
   ],
   "source": [
    "dct.get_all_words()"
   ]
  },
  {
   "cell_type": "markdown",
   "metadata": {},
   "source": [
    "К сожалению, у питона конкретно с этим принципом все не очень хорошо: чем глубже вы что-то спрячете, тем больше букв пользователю придется написать, чтобы это достать, но он все равно однажды достанет\n",
    "\n",
    "Тем не менее, у питона есть несколько методов что-то спрятать, я скажу только о самых простых.\n",
    "\n",
    "Во-первых, можно поставить один или два знака \"_\" в начале названия атрибута или метода, и тогда питон либо просто намекнет, что пользователь не прав, либо выдаст ошибку, когда тот попытается обратиться к ним. Перепишем наш класс словаря, сделав атрибут со словами скрытым и добавив какой-нибудь скрытый метод."
   ]
  },
  {
   "cell_type": "code",
   "execution_count": 8,
   "metadata": {},
   "outputs": [],
   "source": [
    "class SafeDictionary:\n",
    "    \n",
    "    def __init__(self, source=None, target=None, meta=None):\n",
    "        self.source_language = source\n",
    "        self.target_language = target\n",
    "        self.meta = meta\n",
    "        self.size = 0\n",
    "        # вот он атрибут, который мы прячем\n",
    "        self.__vocabulary = {}\n",
    "        # а вот вызов метода, который снаружи недоступен\n",
    "        self.__detect_creation()\n",
    "        \n",
    "    def translate(self, word):\n",
    "        new_word = self.__vocabulary.get(word, None)\n",
    "        if new_word is None:\n",
    "            print(f'{word} not in dictionary')\n",
    "        return new_word\n",
    "    \n",
    "    def add_word(self, source, target):\n",
    "        if source not in self.__vocabulary:\n",
    "            self.__vocabulary[source] = target\n",
    "            self.size += 1\n",
    "        else:\n",
    "            print(f'{source} is already added')\n",
    "    \n",
    "    def delete_word(self, word):\n",
    "        if word in self.__vocabulary:\n",
    "            self.__vocabulary.pop(word)\n",
    "            self.size -= 1\n",
    "        else:\n",
    "            print(f'{word} not in dictionary')\n",
    "            \n",
    "    def get_all_words(self):\n",
    "        return self.__vocabulary\n",
    "    \n",
    "    def __detect_creation(self):\n",
    "        self.creation_time = time()"
   ]
  },
  {
   "cell_type": "code",
   "execution_count": 9,
   "metadata": {},
   "outputs": [],
   "source": [
    "dct = SafeDictionary('ru', 'en', {'name': 'my dict'})"
   ]
  },
  {
   "cell_type": "markdown",
   "metadata": {},
   "source": [
    "Теперь питон на нас ругается при попытке достать словарь на прямую, нам придется пользоваться методом, который мы сами и написали."
   ]
  },
  {
   "cell_type": "code",
   "execution_count": 10,
   "metadata": {},
   "outputs": [
    {
     "ename": "AttributeError",
     "evalue": "'SafeDictionary' object has no attribute '__vocabulary'",
     "output_type": "error",
     "traceback": [
      "\u001b[0;31m---------------------------------------------------------------------------\u001b[0m",
      "\u001b[0;31mAttributeError\u001b[0m                            Traceback (most recent call last)",
      "Cell \u001b[0;32mIn [10], line 1\u001b[0m\n\u001b[0;32m----> 1\u001b[0m \u001b[43mdct\u001b[49m\u001b[38;5;241;43m.\u001b[39;49m\u001b[43m__vocabulary\u001b[49m\n",
      "\u001b[0;31mAttributeError\u001b[0m: 'SafeDictionary' object has no attribute '__vocabulary'"
     ]
    }
   ],
   "source": [
    "dct.__vocabulary"
   ]
  },
  {
   "cell_type": "code",
   "execution_count": 11,
   "metadata": {},
   "outputs": [
    {
     "data": {
      "text/plain": [
       "{}"
      ]
     },
     "execution_count": 11,
     "metadata": {},
     "output_type": "execute_result"
    }
   ],
   "source": [
    "dct.get_all_words()"
   ]
  },
  {
   "cell_type": "markdown",
   "metadata": {},
   "source": [
    "Но мы все еще можем его немного обмануть"
   ]
  },
  {
   "cell_type": "code",
   "execution_count": 12,
   "metadata": {},
   "outputs": [
    {
     "data": {
      "text/plain": [
       "{}"
      ]
     },
     "execution_count": 12,
     "metadata": {},
     "output_type": "execute_result"
    }
   ],
   "source": [
    "dct._SafeDictionary__vocabulary"
   ]
  },
  {
   "cell_type": "markdown",
   "metadata": {},
   "source": [
    "Теперь посмотрим, что у нас с методом (все то же самое в целом)"
   ]
  },
  {
   "cell_type": "code",
   "execution_count": 13,
   "metadata": {},
   "outputs": [
    {
     "ename": "AttributeError",
     "evalue": "'SafeDictionary' object has no attribute '__detect_creation'",
     "output_type": "error",
     "traceback": [
      "\u001b[0;31m---------------------------------------------------------------------------\u001b[0m",
      "\u001b[0;31mAttributeError\u001b[0m                            Traceback (most recent call last)",
      "Cell \u001b[0;32mIn [13], line 1\u001b[0m\n\u001b[0;32m----> 1\u001b[0m \u001b[43mdct\u001b[49m\u001b[38;5;241;43m.\u001b[39;49m\u001b[43m__detect_creation\u001b[49m()\n",
      "\u001b[0;31mAttributeError\u001b[0m: 'SafeDictionary' object has no attribute '__detect_creation'"
     ]
    }
   ],
   "source": [
    "dct.__detect_creation()"
   ]
  },
  {
   "cell_type": "code",
   "execution_count": 14,
   "metadata": {},
   "outputs": [],
   "source": [
    "dct._SafeDictionary__detect_creation()"
   ]
  },
  {
   "cell_type": "markdown",
   "metadata": {},
   "source": [
    "Вообще, есть в питоне приняты три вида названий атрибутов и методов:\n",
    "- Просто названия с маленькой буквы (public): доступны снаружи и формируют интерфейс для пользователя\n",
    "- Названия, которые начинаются с \"_\" (protected): доступны пользователю, но мы мягко намекаем, что это можно трогать только, если он очень уверен в своих действиях\n",
    "- Названия с \"__\" (private): недоступны снаружи, но их все еще можно вытащить методом хитрых комбинаций (пользователь точно знает, что лезет куда-то не туда)"
   ]
  },
  {
   "cell_type": "markdown",
   "metadata": {},
   "source": [
    "### Наследование"
   ]
  },
  {
   "cell_type": "markdown",
   "metadata": {},
   "source": [
    "Представьте, что у нас есть словарь, с которым все просто: слова всегда подаются по одному. Но вдруг нам понадобилось добавлять слова списками (и апельсины бочками, да). Здесь нам может помочь наследование.\n",
    "\n",
    "Общая идея заключается в том, что мы не хотим переписывать общие для старого и нового словаря методы. Тот же вывод всех слов или фиксацию времени. Но мы хотим сделать новый метод, который умеет добавлять список. Для этого можно создать новый класс, но унаследовать его от предыдущего"
   ]
  },
  {
   "cell_type": "code",
   "execution_count": 15,
   "metadata": {},
   "outputs": [],
   "source": [
    "class DictionaryWithList(SafeDictionary):\n",
    "\n",
    "    def add_many_words(self, words):\n",
    "        # добавляем много слов\n",
    "        for word, target in words:\n",
    "            self.add_word(word, target)\n",
    "            \n",
    "    def delete_many_words(self, words):\n",
    "        # удаляем много слов\n",
    "        for word in words:\n",
    "            self.delete_word(word)"
   ]
  },
  {
   "cell_type": "code",
   "execution_count": 16,
   "metadata": {},
   "outputs": [],
   "source": [
    "dct = DictionaryWithList('ru', 'en', {'name': 'my dict'})"
   ]
  },
  {
   "cell_type": "code",
   "execution_count": 17,
   "metadata": {},
   "outputs": [],
   "source": [
    "dct.add_word('кошка', 'cat')"
   ]
  },
  {
   "cell_type": "code",
   "execution_count": 18,
   "metadata": {},
   "outputs": [
    {
     "data": {
      "text/plain": [
       "{'кошка': 'cat', 'собака': 'dog', 'птица': 'bird', 'стол': 'table'}"
      ]
     },
     "execution_count": 18,
     "metadata": {},
     "output_type": "execute_result"
    }
   ],
   "source": [
    "words = [('собака', 'dog'), ('птица', 'bird'), ('стол', 'table')]\n",
    "dct.add_many_words(words)\n",
    "dct.get_all_words()"
   ]
  },
  {
   "cell_type": "code",
   "execution_count": 19,
   "metadata": {},
   "outputs": [
    {
     "data": {
      "text/plain": [
       "{'кошка': 'cat', 'собака': 'dog'}"
      ]
     },
     "execution_count": 19,
     "metadata": {},
     "output_type": "execute_result"
    }
   ],
   "source": [
    "words = ['птица', 'стол']\n",
    "dct.delete_many_words(words)\n",
    "dct.get_all_words()"
   ]
  },
  {
   "cell_type": "markdown",
   "metadata": {},
   "source": [
    "### Полиморфизм"
   ]
  },
  {
   "cell_type": "markdown",
   "metadata": {},
   "source": [
    "Теперь представим, что нам нужен словарь, который умеет сам приводить слово к начальой форме и только после этого переводить его. При этом, нам бы очень не хотелось объяснять пользователям, что теперь им нужно использовать метод с другим именем.\n",
    "\n",
    "Здесь нам поможет полиморфизм, идея которого в том, что под одинаковым интерфейсом может скрываться разное содержание, реализующее нужный нам метод. И мы все еще не переопределяем то, что менять не надо."
   ]
  },
  {
   "cell_type": "code",
   "execution_count": 20,
   "metadata": {},
   "outputs": [],
   "source": [
    "class SuperDictionary(DictionaryWithList):\n",
    "    \n",
    "    def translate(self, word):\n",
    "        # переводим слово, получив перед этим его лемму\n",
    "        word = morph.parse(word)[0].normal_form\n",
    "        # здесь мы вызываем метод перевода из родителя, так как здесь мы его уже переопределили\n",
    "        new_word = DictionaryWithList.translate(self, word)\n",
    "        return new_word"
   ]
  },
  {
   "cell_type": "code",
   "execution_count": 21,
   "metadata": {},
   "outputs": [],
   "source": [
    "dct = SuperDictionary('ru', 'en', {'name': 'my dict'})"
   ]
  },
  {
   "cell_type": "code",
   "execution_count": 22,
   "metadata": {},
   "outputs": [
    {
     "data": {
      "text/plain": [
       "{'собака': 'dog', 'птица': 'bird', 'стол': 'table'}"
      ]
     },
     "execution_count": 22,
     "metadata": {},
     "output_type": "execute_result"
    }
   ],
   "source": [
    "words = [('собака', 'dog'), ('птица', 'bird'), ('стол', 'table')]\n",
    "dct.add_many_words(words)\n",
    "dct.get_all_words()"
   ]
  },
  {
   "cell_type": "code",
   "execution_count": 23,
   "metadata": {},
   "outputs": [
    {
     "data": {
      "text/plain": [
       "'dog'"
      ]
     },
     "execution_count": 23,
     "metadata": {},
     "output_type": "execute_result"
    }
   ],
   "source": [
    "dct.translate('собаки')"
   ]
  },
  {
   "cell_type": "markdown",
   "metadata": {},
   "source": [
    "## Дополнительная информация"
   ]
  },
  {
   "cell_type": "markdown",
   "metadata": {},
   "source": [
    "- Статические методы: НЕ принимают в качестве первого аргумента сам объект"
   ]
  },
  {
   "cell_type": "code",
   "execution_count": 24,
   "metadata": {},
   "outputs": [],
   "source": [
    "class StrangeDictionary(Dictionary):\n",
    "    \n",
    "    @staticmethod\n",
    "    def strange_method(word):\n",
    "        print(word, len(word))\n",
    "        \n",
    "    # если не указать, что метод static\n",
    "    def very_strange_method(word):\n",
    "        print(word, len(word))"
   ]
  },
  {
   "cell_type": "code",
   "execution_count": 25,
   "metadata": {},
   "outputs": [],
   "source": [
    "dct = StrangeDictionary()"
   ]
  },
  {
   "cell_type": "code",
   "execution_count": 26,
   "metadata": {},
   "outputs": [
    {
     "name": "stdout",
     "output_type": "stream",
     "text": [
      "кошка 5\n"
     ]
    }
   ],
   "source": [
    "dct.strange_method('кошка')"
   ]
  },
  {
   "cell_type": "code",
   "execution_count": 27,
   "metadata": {},
   "outputs": [
    {
     "ename": "TypeError",
     "evalue": "StrangeDictionary.very_strange_method() takes 1 positional argument but 2 were given",
     "output_type": "error",
     "traceback": [
      "\u001b[0;31m---------------------------------------------------------------------------\u001b[0m",
      "\u001b[0;31mTypeError\u001b[0m                                 Traceback (most recent call last)",
      "Cell \u001b[0;32mIn [27], line 1\u001b[0m\n\u001b[0;32m----> 1\u001b[0m \u001b[43mdct\u001b[49m\u001b[38;5;241;43m.\u001b[39;49m\u001b[43mvery_strange_method\u001b[49m\u001b[43m(\u001b[49m\u001b[38;5;124;43m'\u001b[39;49m\u001b[38;5;124;43mкошка\u001b[39;49m\u001b[38;5;124;43m'\u001b[39;49m\u001b[43m)\u001b[49m\n",
      "\u001b[0;31mTypeError\u001b[0m: StrangeDictionary.very_strange_method() takes 1 positional argument but 2 were given"
     ]
    }
   ],
   "source": [
    "dct.very_strange_method('кошка')"
   ]
  },
  {
   "cell_type": "code",
   "execution_count": 28,
   "metadata": {},
   "outputs": [
    {
     "ename": "TypeError",
     "evalue": "object of type 'StrangeDictionary' has no len()",
     "output_type": "error",
     "traceback": [
      "\u001b[0;31m---------------------------------------------------------------------------\u001b[0m",
      "\u001b[0;31mTypeError\u001b[0m                                 Traceback (most recent call last)",
      "Cell \u001b[0;32mIn [28], line 1\u001b[0m\n\u001b[0;32m----> 1\u001b[0m \u001b[43mdct\u001b[49m\u001b[38;5;241;43m.\u001b[39;49m\u001b[43mvery_strange_method\u001b[49m\u001b[43m(\u001b[49m\u001b[43m)\u001b[49m\n",
      "Cell \u001b[0;32mIn [24], line 9\u001b[0m, in \u001b[0;36mStrangeDictionary.very_strange_method\u001b[0;34m(word)\u001b[0m\n\u001b[1;32m      8\u001b[0m \u001b[38;5;28;01mdef\u001b[39;00m \u001b[38;5;21mvery_strange_method\u001b[39m(word):\n\u001b[0;32m----> 9\u001b[0m     \u001b[38;5;28mprint\u001b[39m(word, \u001b[38;5;28;43mlen\u001b[39;49m\u001b[43m(\u001b[49m\u001b[43mword\u001b[49m\u001b[43m)\u001b[49m)\n",
      "\u001b[0;31mTypeError\u001b[0m: object of type 'StrangeDictionary' has no len()"
     ]
    }
   ],
   "source": [
    "dct.very_strange_method()"
   ]
  },
  {
   "cell_type": "markdown",
   "metadata": {},
   "source": [
    "- *args, **kwargs: позволяют собрать все аргументы функции в один кортеж и(ли) словарь:"
   ]
  },
  {
   "cell_type": "code",
   "execution_count": 29,
   "metadata": {},
   "outputs": [],
   "source": [
    "def func(*args, **kwargs):\n",
    "    print(f'args: {args}')\n",
    "    print(f'kwargs: {kwargs}')"
   ]
  },
  {
   "cell_type": "code",
   "execution_count": 30,
   "metadata": {},
   "outputs": [
    {
     "name": "stdout",
     "output_type": "stream",
     "text": [
      "args: (1, 2, 3, 5)\n",
      "kwargs: {'a': 23, 'b': 12, 'c': 74}\n"
     ]
    }
   ],
   "source": [
    "func(1, 2, 3, 5, a=23, b=12, c=74)"
   ]
  },
  {
   "cell_type": "markdown",
   "metadata": {},
   "source": [
    "- Методы с названием имени \\_\\_METHOD\\_\\_: нужны для переопределения базовых операций:\n",
    "\n",
    "Например, `__repr__` позволяет рассказать питону, как надо отображать объект этого класса, а `__str__` - как надо его переводить в строку (да, это разные вещи) "
   ]
  },
  {
   "cell_type": "code",
   "execution_count": 31,
   "metadata": {},
   "outputs": [],
   "source": [
    "class BeautifulDictionary(SuperDictionary):\n",
    "    def __repr__(self):\n",
    "        s = SuperDictionary.__name__.split('.')[-1]\n",
    "        args = []\n",
    "        for el, val in self.__dict__.items():\n",
    "            args.append(f'{el}={val}')\n",
    "        if len(args) > 0:\n",
    "            args = f'({\", \".join(args)})'\n",
    "            s += args\n",
    "        return s"
   ]
  },
  {
   "cell_type": "code",
   "execution_count": 32,
   "metadata": {},
   "outputs": [],
   "source": [
    "dct = BeautifulDictionary('ru', 'en', {'name': 'my dict'})"
   ]
  },
  {
   "cell_type": "code",
   "execution_count": 33,
   "metadata": {},
   "outputs": [
    {
     "data": {
      "text/plain": [
       "SuperDictionary(source_language=ru, target_language=en, meta={'name': 'my dict'}, size=0, _SafeDictionary__vocabulary={}, creation_time=1669304796.154612)"
      ]
     },
     "execution_count": 33,
     "metadata": {},
     "output_type": "execute_result"
    }
   ],
   "source": [
    "dct"
   ]
  },
  {
   "cell_type": "markdown",
   "metadata": {},
   "source": [
    "- Что на самом деле делает питон, когда скрывает атрибуты и методы: мухлюет, как всегда\n",
    "\n",
    "Питон вместе того, чтобы сохранить атрибут с тем именем, которое вы ему дали, сохраняет его в виде `_CLASS__ATTRIBUTE`"
   ]
  },
  {
   "cell_type": "code",
   "execution_count": 34,
   "metadata": {},
   "outputs": [
    {
     "data": {
      "text/plain": [
       "{'source_language': 'ru',\n",
       " 'target_language': 'en',\n",
       " 'meta': {'name': 'my dict'},\n",
       " 'size': 0,\n",
       " '_SafeDictionary__vocabulary': {},\n",
       " 'creation_time': 1669304796.154612}"
      ]
     },
     "execution_count": 34,
     "metadata": {},
     "output_type": "execute_result"
    }
   ],
   "source": [
    "dct.__dict__"
   ]
  },
  {
   "cell_type": "markdown",
   "metadata": {},
   "source": [
    "# Flask"
   ]
  },
  {
   "cell_type": "markdown",
   "metadata": {},
   "source": [
    "А теперь о том, зачем это было именно здесь. Вы уже работали с базой данных через питон и, наверное, должны были заметить, насколько легко ошибиться в запросах: сделать опечатку, неправильно переписать имя таблицы или столбка6, наруть синтаксис запросов... Эту историю можно упростить, если использовать классы как способ обращения к базе данных. \n",
    "\n",
    "Для того, чтобы понять, как это делать, попробуем подключить базу данных к нашему приложению и сделать сайт про фильмы."
   ]
  },
  {
   "cell_type": "markdown",
   "metadata": {},
   "source": [
    "Вот [тут](https://github.com/hse-ling-python/seminars/tree/master/flask_applications/imdb_site) лежит шаблон сайта, его можно использовать."
   ]
  },
  {
   "cell_type": "markdown",
   "metadata": {},
   "source": [
    "Для удобной работы с базами данных и фласком одновременно была придумана библиотека, которая создает удобную интеграцию одного в другое.\n",
    "Вообще, кроме самого фласка, нам нужны сдедующие библиотеки:\n",
    "`sqlalchemy`\n",
    "`flask_sqlalchemy`"
   ]
  },
  {
   "cell_type": "markdown",
   "metadata": {},
   "source": [
    "**Сначала посмотрим, как объяснить питону строение базы**\n",
    "\n",
    "Обычно, все описания кладут в отдельный файл, из которого их потом импортируют. Это в целом хороший подход к любому проекту. В нашем случае все модели лежат в файле `models.py`. там мы сначала создаем объект, который отвечает за интерфейс работы с базой, а потом описываем каждую таблицу. "
   ]
  },
  {
   "cell_type": "code",
   "execution_count": 35,
   "metadata": {},
   "outputs": [],
   "source": [
    "# models.py\n",
    "\n",
    "from flask_sqlalchemy import SQLAlchemy\n",
    "\n",
    "db = SQLAlchemy()\n",
    "\n",
    "# дальше описания таблиц"
   ]
  },
  {
   "cell_type": "markdown",
   "metadata": {},
   "source": [
    "Каждая таблица описывается отделно: с помощью ```__tablename__``` передается ее имя, а названия столбиков совпадают с названиями в нашей таблице. Еще используется специальная \"обертка\" для столбца, где можно прописать, какой это типа данных и если это первиный ключ, то на это указать.\n",
    "\n",
    "Ниже пример класса, описывающего одну из таблиц."
   ]
  },
  {
   "cell_type": "code",
   "execution_count": 36,
   "metadata": {},
   "outputs": [],
   "source": [
    "class Person(db.Model):\n",
    "    __tablename__ = \"people\"\n",
    "\n",
    "    # атрибут person_id будет хранить значение столбца id, это целое число и первичный ключ\n",
    "    person_id = db.Column('person_id', db.Integer, primary_key=True)\n",
    "    name = db.Column('name', db.Text)\n",
    "    born = db.Column('born', db.Integer)\n",
    "    died = db.Column('died', db.Integer)\n",
    "\n",
    "    films = relationship(\"Film\", secondary='crew')"
   ]
  },
  {
   "cell_type": "markdown",
   "metadata": {},
   "source": [
    "Можно указать, что столбец ссылается на ключ из другой таблицы, например, как у нас в crew. Для этого используется `ForeignKey`"
   ]
  },
  {
   "cell_type": "code",
   "execution_count": 37,
   "metadata": {},
   "outputs": [],
   "source": [
    "class Crew(db.Model):\n",
    "    __tablename__ = 'crew'\n",
    "    __table_args__ = (PrimaryKeyConstraint('title_id', 'person_id'),)\n",
    "\n",
    "    film_id = db.Column('title_id', db.Integer, ForeignKey('titles.title_id'))\n",
    "    person_id = db.Column('person_id', db.Integer, ForeignKey('people.person_id'))"
   ]
  },
  {
   "cell_type": "markdown",
   "metadata": {},
   "source": [
    "Мы можем сделать так, чтобы к фильму привязывались люди, которые там участвуют (в атрибуте будет лежать список).\n",
    "\n",
    "Для этого мы используем `relationship`. Так как мы здесь соединяем две таблицы через вспомогательную, то мы это делаем, указав, с каким объектом мы соединяем и какая вспомогательная таблица.\n",
    "\n",
    "Для рейтинга мы просто связываем две таблицы, где связь один-один, мы можем это сделать сразу, в primaryjoin указываем, как мы свзяываем таблицы, то есть какие столбцы соответствуют друг другу."
   ]
  },
  {
   "cell_type": "code",
   "execution_count": 38,
   "metadata": {},
   "outputs": [],
   "source": [
    "class Film(db.Model):\n",
    "    __tablename__ = \"titles\"\n",
    "\n",
    "    # имя колонки = специальный тип (тип данных, первичный ключ)\n",
    "    film_id = db.Column('title_id', db.Integer, primary_key=True)\n",
    "\n",
    "    rating = db.relationship('Rating', uselist=False, primaryjoin=\"Film.film_id==Rating.film_id\")\n",
    "\n",
    "    ...\n",
    "    \n",
    "    crew = db.relationship(\"Person\", secondary='crew') # с кем, через какую таблицу"
   ]
  },
  {
   "cell_type": "markdown",
   "metadata": {},
   "source": [
    "**Как подключить базу к приложению**\n",
    "\n",
    "\n",
    "Мы должны импортировать фласк и использовать модуль `flask-sqlalchemy`, который позволяет работать с базой. Главное - это прописать путь к базе - там есть часть ```sqlite3:///```- это обозначение для того, что мы работает с таким типом базы, а дальше путь внутри проекта\n",
    "\n",
    "Пусть база лежит там же в папке. Тогда в файле приложения мы импортируем объект базы6 который создали в `models.py` и подключаем к приложению."
   ]
  },
  {
   "cell_type": "code",
   "execution_count": 39,
   "metadata": {},
   "outputs": [],
   "source": [
    "from flask import Flask\n",
    "\n",
    "# создаем приложение\n",
    "app = Flask(__name__)\n",
    "\n",
    "# подключаем нашу базу sqlite:/// - это тип базы, потом просто имя файла, который лежит в той же папке\n",
    "app.config['SQLALCHEMY_DATABASE_URI'] = 'sqlite:///imdb_small_indexed.db'\n",
    "# чтобы ок работать с изменениями в базе (коммиты и обновления информации, если такие есть)\n",
    "app.config['SQLALCHEMY_TRACK_MODIFICATIONS'] = False \n",
    "\n",
    "# указываем базе, какое наше приложение\n",
    "db.app = app\n",
    "db.init_app(app)"
   ]
  },
  {
   "cell_type": "code",
   "execution_count": null,
   "metadata": {},
   "outputs": [],
   "source": []
  }
 ],
 "metadata": {
  "kernelspec": {
   "display_name": "Python 3 (ipykernel)",
   "language": "python",
   "name": "python3"
  },
  "language_info": {
   "codemirror_mode": {
    "name": "ipython",
    "version": 3
   },
   "file_extension": ".py",
   "mimetype": "text/x-python",
   "name": "python",
   "nbconvert_exporter": "python",
   "pygments_lexer": "ipython3",
   "version": "3.10.7"
  }
 },
 "nbformat": 4,
 "nbformat_minor": 4
}
